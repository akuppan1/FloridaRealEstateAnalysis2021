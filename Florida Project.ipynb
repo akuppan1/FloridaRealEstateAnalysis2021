{
 "cells": [
  {
   "cell_type": "markdown",
   "metadata": {},
   "source": [
    "First, we have to gather data about florida\n",
    "\n",
    "Sources:\n",
    "Zillow and other real estate locations. "
   ]
  },
  {
   "cell_type": "markdown",
   "metadata": {},
   "source": [
    "Using the top down approach to solve the question: Where should I invest in Florida?\n",
    "\n",
    "First we start with our budget constraints. \n",
    "\n",
    "Assumptions for budget:\n",
    "1) We are middle class American\n",
    "2) We will utilize FHA first home buyer loan\n",
    "    - 3.5% downpayment + monthly mortgage payments\n",
    "3) We will figure out average income of the average Florida home buyer from U.S. Census\n",
    "4) We prefer coastal lines but priority is low flood zones and low crime areas\n",
    "5) We need to see how prices have been affected in the past 2 years due to COVID\n",
    "6) "
   ]
  },
  {
   "cell_type": "markdown",
   "metadata": {},
   "source": [
    "https://data1.santarosa.fl.gov/GoPermitsNew/reports/ViewAllOpenInspection.cfm\n",
    "https://www.publicrecords.onlinesearches.com/florida/licensing/permits-and-inspections\n"
   ]
  }
 ],
 "metadata": {
  "kernelspec": {
   "display_name": "Python 3",
   "language": "python",
   "name": "python3"
  },
  "language_info": {
   "codemirror_mode": {
    "name": "ipython",
    "version": 3
   },
   "file_extension": ".py",
   "mimetype": "text/x-python",
   "name": "python",
   "nbconvert_exporter": "python",
   "pygments_lexer": "ipython3",
   "version": "3.8.5"
  }
 },
 "nbformat": 4,
 "nbformat_minor": 4
}
